{
 "cells": [
  {
   "cell_type": "code",
   "execution_count": 3,
   "metadata": {},
   "outputs": [],
   "source": [
    "import torch\n",
    "import numpy as np\n",
    "import torch.nn as nn\n",
    "from models import Darknet"
   ]
  },
  {
   "cell_type": "code",
   "execution_count": 6,
   "metadata": {},
   "outputs": [
    {
     "name": "stdout",
     "output_type": "stream",
     "text": [
      "[2, 6, 9, 12, 16, 19, 22, 25, 29, 32, 35, 38, 41, 44, 48, 51, 3, 7, 10, 13, 17, 20, 23, 26, 30, 33, 36, 39, 42, 45, 49, 52, 5, 15, 28, 47]\n"
     ]
    }
   ],
   "source": [
    "l1 = [2,6,9, 12,16,19,22, 25,29,32,35,38,41, 44,48,51]\n",
    "l2 = (np.asarray(l1)+1).tolist()\n",
    "l3 = (np.asarray(l2)+1).tolist()\n",
    "skip = [5,15,28,47]\n",
    "total = 0\n",
    "bn_count = 1\n",
    "print(l1+l2+skip)\n",
    "if bn_count in l1 + l2 + skip:\n",
    "    print('=========')\n",
    "#"
   ]
  }
 ],
 "metadata": {
  "kernelspec": {
   "display_name": "base",
   "language": "python",
   "name": "python3"
  },
  "language_info": {
   "codemirror_mode": {
    "name": "ipython",
    "version": 3
   },
   "file_extension": ".py",
   "mimetype": "text/x-python",
   "name": "python",
   "nbconvert_exporter": "python",
   "pygments_lexer": "ipython3",
   "version": "3.9.13"
  },
  "orig_nbformat": 4,
  "vscode": {
   "interpreter": {
    "hash": "723aee17442701a7e1dcc28148340a7000f084a38157c938f7c6df8257fe93ba"
   }
  }
 },
 "nbformat": 4,
 "nbformat_minor": 2
}
